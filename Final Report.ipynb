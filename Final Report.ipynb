{
 "cells": [
  {
   "cell_type": "markdown",
   "metadata": {},
   "source": [
    "# The Impact of Cancel Culture on the Music Industry\n",
    "## Nikitha Gopal, Abigail Velasquez, Peter Wu\n",
    "\n"
   ]
  },
  {
   "cell_type": "markdown",
   "metadata": {},
   "source": [
    "### Abstract\n",
    "....\n",
    "....\n",
    "...."
   ]
  },
  {
   "cell_type": "markdown",
   "metadata": {},
   "source": [
    "### Introduction\n",
    "&emsp; Every so often, a public figure or celebrity would trend on Twitter over behavior that the general public would consider offensive or socially unacceptable by today’s standards. From politics to Hollywood to the music industry, all kinds of public figures have been called out and criticized for such behavior by the masses. This form of ​​modern ostracism is known as “cancel culture”, in which the masses attempt to call out and boycott an individual in response to problematic remarks or ideologies that they have expressed. This online phenomenon has resulted in celebrities facing real life repercussions. For example, world renown Harry Potter author, JK Rowling was ‘cancelled’ for making controversial remarks about transgender individuals. Due to public uproar, HBO did not extend an invite to Rowling for the Harry Potter reunion. The event was marking the 20th anniversary of the franchise she created. Another example is R. Kelly, an American singer and songwriter, who was accused for sexually assualting minors. In fact, R. Kelly was arrested for 10 counts for sexual asualting four women. The hashtag “#MuteRKelly”, however, began trending on Twitter when Survingn R. Kelly, an investigative series began airing on the US network Lifetime. The hashtag was pushing to have R. Kelly songs removed from radio and music applications. \n",
    "### Problem Statement and Objectives\n",
    "&emsp; To investigate how cancel culture affects the overall public perception of musicians on Twitter, our main research question is the following: How does sentiment surrounding individuals change over time as a result of getting canceled, specifically for those in the music industry among English-speaking Twitter users? As a result of getting canceled, we believe that there will be an overall increase in toxicity and negativity in terms of public sentiment on Twitter towards the canceled individual. To understand the nuances and quantify the effect of cancel culture on public figures, we will be conducting case studies on six individuals from three different genres within the music industry, using Twitter as our main source and platform. \n",
    "To assist our main investigation, we ask three sub-research questions:\n",
    "RQ1: How does sentiment differ over time based on the type of issue the individual was canceled for?\n",
    "RQ2: How does sentiment differ based on the individual’s gender and the genre they cater to?\n",
    "RQ3: How does sentiment differ for individuals with and without fans that have a strong parasocial connection to the individual?\n",
    "\n",
    "### Literature Review\n",
    "### Methodology\n",
    "### Data Collection:\n",
    "&emsp; We collected data from three different music genres: K-pop, Hip-Hop, and Pop. For each music genre, we chose one male and one female music artist who has gotten canceled as well as one male and female artist who have not had any controversies that they got canceled for to act as our control group. Each individual that we have chosen also has a Twitter account that is run by themselves and/or their social media team. \n",
    "&emsp; For K-Pop, our two canceled individuals were NCT and WayV’s Lucas and Aespa’s Giselle. After allegations from former girlfriends of gaslighting and cheating, Lucas was called out and apologized for such behavior two days after the allegations appeared (source). As of February 2022, Lucas still remains on hiatus from participating in any activities. Giselle was called out on Twitter for lip-syncing a racial slur from American R&B artist SZA’s track “Love Galore” in a behind-the-scenes video (source). Giselle also apologized a few days after the incident occured. As our control individuals for the K-Pop genre, we chose NCT and NCT Dream’s Jaemin and ITZY’s Ryujin. In choosing our control individuals for this genre, we chose individuals that were part of groups that debuted or were formed within the same time frame as the groups that the canceled individuals are part of and their respective groups have at least over a million Twitter followers. It is also important to note that although Lucas and Jaemin are both members of boy group NCT, they work under different subunits or groups as Lucas is a member of WayV and Jaemin is a member of NCT Dream. This means that they are not directly associated with each other as they do not work together on a regular basis. Therefore, it is highly unlikely that the reputation of one would affect the other’s reputation.\n",
    "The next group of artists we analyzed were Western hip hop artists. In this group, the two canceled artists were DaBaby and Nicki Minaj. During a festival concert in July of 2021, DaBaby made some remarks to the crowd that were homophobic. After that concert, the controversy went mainstream while many festivals and brands dropped DaBaby.(source) Nicki Minaj faced backlash after she tweeted vaccine misinformation after being asked her vaccination status. (source) This controversy occurred in September of 2021 while the Covid-19 pandemic was still affecting many around the world. For the control artists in the hip hop group, we chose Lil Baby and Saweetie. The main criteria for these artists were if they had a similar following or presence as the canceled individuals and didn’t experience cancellation from controversies. Lil Baby and DaBaby have a similar number of Twitter followers at 6.7 and 4.4 million. However, Nicki Minaj is the most followed female hip hop artist on Twitter by a large margin at 23.7 million followers. For my choice for the other control artist, we chose Saweetie as we felt she has cultivated a similar following to Nicki Minaj through her music and online presence.  \n",
    "&emsp; The third group of artists we analyzed were Western pop artists. Two individuals who faced controversy in this genre were Doja Cat and Zayn Malik. Around the end of May 2020, the hashtag “#DojaCatIsOverParty” began circulating on Twitter since Doja Cat’s 2015 song “Dindu Nuffin” resurfaced (source). The term, “Dindu Nuffin”, is recognized as ‘a racial slur used to mock victims of police brutality’ (source).  Following this, more racist allegations emerged suggesting that Doja Cat was contributing to racist conservations on online chat rooms years prior. In response to the controversy, Doja Cat apologized and explained the reasoning behind her actions in an instagram post, which is now deleted. Zayn Malik recently faced some backlash due to physical assault allegations made by his mother-in-law, Yolanda Hadid. On October 28 2021, TMZ reported that Yolanda Hadid filed a police report against Zayn for domestic violence (source). As a result, Zayn was required to pay fines, complete 90 day probation, and attend anger management classes (source). For the Western Pop control artists, we have chosen Adele and Harry Styles. As mentioned above, the main criteria for our control artists is to have a similar following or presence to our canceled artists. Adele is a strong female pop artist with 27.2 million followers on Twitter. Although her career has been longer and her following is significantly greater than Doja Cat’s 4.2 M followers, both artists hold a similar presence in the media through their music today. Both Doja and Adele have given chart topper hits in this year, making them both equally relevant in the current pop industry. In regards to Harry Styles and Zayn Malik, both have a similar number of followers on Twitter (Harry Styles - 37.4 M and Zayn Malik - 31 M). In addition, their industry presence is also identical since they started their careers together in One Direction. Moreover, Harry and Zayn were both equally influential and popular artists through their independent music post One Direction, making them ideal complements. <br>\n",
    "&emsp; We used the Twitter API to scrape tweets from Twitter relating to each individual. In order to see if there is a visible change in public sentiment, we decided to collect tweets six months before and after the date of cancellation. For each artist, we generated a list of related hashtags and keywords that can be used to collect tweets relating to the artist and the controversy. For each tweet, we gathered the date the tweet was created, author id, tweet id, and the text itself. Below we have presented a table displaying the hashtags and keywords we included for each query along with the date of cancellation and the number of initial tweets we collated. \n"
   ]
  },
  {
   "cell_type": "markdown",
   "metadata": {},
   "source": [
    "| Artist Name | Date of Cancellation | Initial Number of Tweets | Hashtags + Keywords Used for Query |\n",
    "| --- | --- | --- | --- |\n",
    "| Lucas (NCT/WayV) | 8/24/21 | 117,654 | \"lucas\", “bubble”,“bbl”, “scandal\", \"xuxi\", \"yukhei\", \"nct\",\"czennie\", \"czennies\", \"nctzen\", \"lumis\", \"weishennie\", \"nctzens\", \"weishennies\", \"wayv\", \"weishenv\", \"ot23\", \"ot22\", \"ot6\", \"ot7\", \"#NCT\", \"#LUCAS\", \"#WayV\", \"WeiShenV\", \"#WELOVEYOULUCAS\", \"#LUCAS_OUT\", \"#WAYV_is_7\", \"#LUCASBESTBOY\", \"#WayVis7\", \"#LUCAS_GETS_OUT_OF_NCT\", \"#LUCAS_GETS_OUT_OF_WayV\" |\n",
    "| Giselle (Aespa) | 10/23/21 | 36,176 | \"giselle\", \"uchinaga\", \"kpop\", \"k-pop\", \"bbl\", \"bubble”, \"MYs\", \"MY\", \"aeri\", \"n word\", \"racist\", \"aespa\", \"#aespa\", \"#gisellenword\", \"giselleaespa\", \"#Giselle_OUT\", \"#gisellenwordspace\", \"#giselleapologize\", \"#aespa_is_FOUR\"  |\n",
    "| DaBaby | 7/25/21 | 100,810 | \"dababy\", #DaBabyisOverParty, #DaBookings, #DaApology, #Dababy |\n",
    "| Nicki Minaj | 9/13/21 | 93,332 | '\"nicki minaj, #NickiMinaj, #Nicki, #MyCousinTookTheVaccine, #NickiMinajsCousinsFriendsBalls, #NickisCousinsFriendsBalls, #nickiminajdraggingparty, #iStandWithNicki, #istandwithnickiminaj, #barbz, barbz |\n",
    "| Zayn Malik | 10/28/2021 | 53,472 | “zayn malik”, “zayn”, “zayn hits yolanda”, “zayn and gigi”, “zayn malik and gigi hadid”, “zayn cheated”, #WeAreWithZayn, #ZaynMalik, #FreeZayn, #welovezayn, #AlwaysWithYouZayn, #respectzayn, #WeSupportZayn, #cancelzayn, #WeHateZayn |\n",
    "| Doja Cat | 5/25/2020 | 387,572 | “doja cat”, “doja”, “dindu nuffin song”, #dojawasinnocent, #dojacatisNOToverparty, “WeAreSorryDoja”, #dojacatisoverparty, #DojaIsOverParty, #DojaCat |"
   ]
  },
  {
   "cell_type": "markdown",
   "metadata": {},
   "source": [
    "<h4><center>Table 1. Canceled Artists’ Dataset Overview</center></h4>"
   ]
  },
  {
   "cell_type": "markdown",
   "metadata": {},
   "source": [
    "| Artist Name | Initial Number of Tweets | Hashtags + Keywords Used for Query |\n",
    "| --- | --- | --- |\n",
    "| Jaemin (NCT/NCT Dream) | 117,654 | \"na jaemin\", \"jaemin\", “bbl”, “bubble”, “nct”, “nct dream”, “nana”, “nctzens”, \"czennie\", \"czennies\", \"nctzen\", “#NCT”, “#NCTDREAM” |\n",
    "| Ryujin (ITZY) | 36,176 | \"ryujin\", \"shin\", \"itzy\", \"#ITZY\", \"midzy\", \"midzys\", \"#RYUJIN\" |\n",
    "| Lil Baby | 146,198 | “lil baby”, “#lilbaby” |\n",
    "| Saweetie | 70,904 | '\"saweetie\" , “#saweetie” |\n",
    "| Harry Styles | 437,775 | “harry styles”, “harry”, “styles”, #harry, #harrystyles |\n",
    "| Adele | 34,282 | “adele”, #adele, #adele25, #adele21, #adelelove |\n"
   ]
  },
  {
   "cell_type": "markdown",
   "metadata": {},
   "source": [
    "<h4><center>Table 2. Control Artists’ Dataset Overview</center></h4>"
   ]
  },
  {
   "cell_type": "markdown",
   "metadata": {},
   "source": [
    "&emsp; To measure the sentiment of our tweets, we choose to use 3 different sentiment analysis tools: Google Perspective API, Vader API, and TextBlob API to generate our preliminary results. Each API looks at different aspects of the tweet and uses different methods to determine the overall sentiment.\n",
    "### Sentiment Metric 1: Google Perspective API:\n",
    "&emsp; Using the Google Perspective API, we calculated the likelihood that each tweet in our datasets would be perceived as toxic, severely toxic, an insult, and if it contains profanity. The difference between toxic and severely toxic is that the severe toxicity attribute is less sensitive to milder forms of toxicity, such as text that contains profanity used in a positive case. Each API request would then give a total of four scores for each attribute, which would range from any float value from 0 to 1. For our analysis, we are only utilizing the summary score, which is the overall probability that the inputted text would be perceived as the given attribute. Since we are focusing on sentiment among English-speaking Twitter users, we specified that we would be using the English language while using Perspective API. Therefore, any tweets that are not recognized as being in English by the API are not included in the final dataset containing the probability values for each tweet.\n",
    "### Sentiment Metric 2: Vader API:\n",
    "&emsp; The second sentiment metric tool we utilized was Vader API. Using this library, we were able to model the polarity and intensity of emotion in our tweets. The vader api presents a dictionary of the following scores: negative, neutral, positive, and compound (combined by normalizing the other 3 scores). The negative, neutral, and positive scores are ratios which can range from 0 to 1. The sum of the 3 scores should equal 1. The compound score is a singular score that is computed by normalizing the other 3 scores. It can range from -1 (most negative) to +1 (most positive). \n",
    "### Sentiment Metric 3: Text Blob API\n",
    "&emsp; The last sentiment metric tool that’s used in our preliminary analysis is TextBlob. With this Python library, sentiment is calculated in two ways: subjectivity and polarity.  We decided to only use polarity as a sentiment metric because subjectivity judges the objectiveness of a collection of words, and we were not interested in the amount of truthfulness in tweets. Polarity measures how emotive a phrase is. With TextBlob, polarity ranges from -1 to 1, with more neutral sentiment or emotions falling near 0 while stronger sentiment falls closer to -1 if it’s more negative or 1 if it’s positive.\n",
    "\n",
    "Preliminary Results\n"
   ]
  },
  {
   "cell_type": "code",
   "execution_count": null,
   "metadata": {},
   "outputs": [],
   "source": []
  }
 ],
 "metadata": {
  "kernelspec": {
   "display_name": "Python 3",
   "language": "python",
   "name": "python3"
  },
  "language_info": {
   "codemirror_mode": {
    "name": "ipython",
    "version": 3
   },
   "file_extension": ".py",
   "mimetype": "text/x-python",
   "name": "python",
   "nbconvert_exporter": "python",
   "pygments_lexer": "ipython3",
   "version": "3.8.5"
  }
 },
 "nbformat": 4,
 "nbformat_minor": 4
}
