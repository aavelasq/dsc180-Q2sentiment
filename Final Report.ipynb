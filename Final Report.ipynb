{
 "cells": [
  {
   "cell_type": "markdown",
   "metadata": {},
   "source": [
    "# Abstract\n",
    "Musicians often trend on social media for various reasons but in recent years, there has been a rise in musicians being “canceled” for committing offensive or socially unacceptable behavior. Due to the wide accessibility of social media, the masses are able to hold accountable musicians for their actions through “cancel culture”, a form of modern ostracism. Twitter has become a well-known platform for “cancel culture” as users can easily spread hashtags and see what’s trending, which also has the potential to facilitate the spread of toxicity. We analyze how public sentiment towards canceled musicians on Twitter changes in respect to the type of issue they were canceled for, their background, and the strength of their parasocial relationship with their fans. Through our research, we aim to determine whether “cancel culture” leads to an increase in toxicity and negative sentiment towards a canceled individual."
   ]
  },
  {
   "cell_type": "markdown",
   "metadata": {},
   "source": [
    "# Introduction\n",
    "Every so often, a public figure or celebrity would trend on Twitter over behavior that the general public would consider offensive or socially unacceptable by today’s standards. From politics to Hollywood to the music industry, all kinds of public figures have been called out and criticized for such behavior by the masses. This form of modern ostracism is known as “cancel culture”, in which the masses attempt to call out and boycott an individual in response to problematic remarks or ideologies that they have expressed. This online phenomenon has resulted in celebrities facing real life repercussions. For example, world renown Harry Potter author, JK Rowling was ‘cancelled’ for making controversial remarks about transgender individuals. Due to public uproar, HBO did not extend an invite to Rowling for the Harry Potter reunion. The event was marking the 20th anniversary of the franchise she created. Another example is R. Kelly, an American singer and songwriter, who was accused for sexually assualting minors. In fact, R. Kelly was arrested for 10 counts for sexual asualting four women. The hashtag “#MuteRKelly”, however, began trending on Twitter when Survingn R. Kelly, an investigative series began airing on the US network Lifetime. The hashtag was pushing to have R. Kelly songs removed from radio and music applications. \n",
    "\n",
    "# Problem Statement and Objectives\n",
    "To investigate how cancel culture affects the overall public perception of musicians on Twitter, our main research question is the following: How does sentiment surrounding individuals change over time as a result of getting canceled, specifically for those in the music industry among English-speaking Twitter users? As a result of getting canceled, we believe that there will be an overall increase in toxicity and negativity in terms of public sentiment on Twitter towards the canceled individual. To understand the nuances and quantify the effect of cancel culture on public figures, we will be conducting case studies on six individuals from three different genres within the music industry, using Twitter as our main source and platform. \n",
    "To assist our main investigation, we ask three sub-research questions:\n",
    "RQ1: How does sentiment differ over time based on the type of issue the individual was canceled for?\n",
    "RQ2: How does sentiment differ based on the individual’s gender and the genre they cater to?\n",
    "RQ3: How does sentiment differ for individuals with and without fans that have a strong parasocial connection to the individual?\n",
    "\n",
    "# Literature Review\n",
    "# Methods\n",
    "## Data Collection\n",
    "We collected data from three different music genres: K-pop, Hip-Hop, and Pop. For each music genre, we chose one male and one female music artist who has gotten canceled as well as one male and female artist who have not had any controversies that they got canceled for to act as our control group. Each individual that we have chosen also has a Twitter account that is run by themselves and/or their social media team. \n",
    "\n",
    "For K-Pop, our two canceled individuals were NCT and WayV’s Lucas and Aespa’s Giselle. After allegations from former girlfriends of gaslighting and cheating, Lucas was called out and apologized for such behavior two days after the allegations appeared (source). As of February 2022, Lucas still remains on hiatus from participating in any activities. Giselle was called out on Twitter for lip-syncing a racial slur from American R&B artist SZA’s track “Love Galore” in a behind-the-scenes video (source). Giselle also apologized a few days after the incident occured. As our control individuals for the K-Pop genre, we chose NCT and NCT Dream’s Jaemin and ITZY’s Ryujin. In choosing our control individuals for this genre, we chose individuals that were part of groups that debuted or were formed within the same time frame as the groups that the canceled individuals are part of and their respective groups have at least over a million Twitter followers. It is also important to note that although Lucas and Jaemin are both members of boy group NCT, they work under different subunits or groups as Lucas is a member of WayV and Jaemin is a member of NCT Dream. This means that they are not directly associated with each other as they do not work together on a regular basis. Therefore, it is highly unlikely that the reputation of one would affect the other’s reputation."
   ]
  },
  {
   "cell_type": "markdown",
   "metadata": {},
   "source": [
    "The next group of artists we analyzed were Western hip hop artists. In this group, the two canceled artists were DaBaby and Nicki Minaj. During a festival concert in July of 2021, DaBaby made some remarks to the crowd that were homophobic. After that concert, the controversy went mainstream while many festivals and brands dropped DaBaby.(source) Nicki Minaj faced backlash after she tweeted vaccine misinformation after being asked her vaccination status. (source) This controversy occurred in September of 2021 while the Covid-19 pandemic was still affecting many around the world. For the control artists in the hip hop group, we chose Lil Baby and Saweetie. The main criteria for these artists were if they had a similar following or presence as the canceled individuals and didn’t experience cancellation from controversies. Lil Baby and DaBaby have a similar number of Twitter followers at 6.7 and 4.4 million. However, Nicki Minaj is the most followed female hip hop artist on Twitter by a large margin at 23.7 million followers. For my choice for the other control artist, we chose Saweetie as we felt she has cultivated a similar following to Nicki Minaj through her music and online presence.  "
   ]
  },
  {
   "cell_type": "markdown",
   "metadata": {},
   "source": [
    "The third group of artists we analyzed were Western pop artists. Two individuals who faced controversy in this genre were Doja Cat and Zayn Malik. Around the end of May 2020, the hashtag “#DojaCatIsOverParty” began circulating on Twitter since Doja Cat’s 2015 song “Dindu Nuffin” resurfaced (source). The term, “Dindu Nuffin”, is recognized as ‘a racial slur used to mock victims of police brutality’ (source).  Following this, more racist allegations emerged suggesting that Doja Cat was contributing to racist conservations on online chat rooms years prior. In response to the controversy, Doja Cat apologized and explained the reasoning behind her actions in an instagram post, which is now deleted. Zayn Malik recently faced some backlash due to physical assault allegations made by his mother-in-law, Yolanda Hadid. On October 28 2021, TMZ reported that Yolanda Hadid filed a police report against Zayn for domestic violence (source). As a result, Zayn was required to pay fines, complete 90 day probation, and attend anger management classes (source). For the Western Pop control artists, we have chosen Adele and Harry Styles. As mentioned above, the main criteria for our control artists is to have a similar following or presence to our canceled artists. Adele is a strong female pop artist with 27.2 million followers on Twitter. Although her career has been longer and her following is significantly greater than Doja Cat’s 4.2 M followers, both artists hold a similar presence in the media through their music today. Both Doja and Adele have given chart topper hits in this year, making them both equally relevant in the current pop industry. In regards to Harry Styles and Zayn Malik, both have a similar number of followers on Twitter (Harry Styles - 37.4 M and Zayn Malik - 31 M). In addition, their industry presence is also identical since they started their careers together in One Direction. Moreover, Harry and Zayn were both equally influential and popular artists through their independent music post One Direction, making them ideal complements."
   ]
  },
  {
   "cell_type": "markdown",
   "metadata": {},
   "source": [
    "We used the Twitter API to scrape tweets from Twitter relating to each individual. In order to see if there is a visible change in public sentiment, we decided to collect tweets six months before and after the date of cancellation. For each artist, we generated a list of related hashtags and keywords that can be used to collect tweets relating to the artist and the controversy. For each tweet, we gathered the date the tweet was created, author id, tweet id, and the text itself. Below we have presented a table displaying the hashtags and keywords we included for each query along with the date of cancellation and the number of initial tweets we collated. "
   ]
  },
  {
   "cell_type": "markdown",
   "metadata": {},
   "source": [
    "| Artist Name | Date of Cancellation | Initial Number of Tweets | Hashtags + Keywords Used for Query |\n",
    "| --- | --- | --- | --- |\n",
    "| Lucas (NCT/WayV) | 8/24/21 | 117,654 | \"lucas\", “bubble”,“bbl”, “scandal\", \"xuxi\", \"yukhei\", \"nct\",\"czennie\", \"czennies\", \"nctzen\", \"lumis\", \"weishennie\", \"nctzens\", \"weishennies\", \"wayv\", \"weishenv\", \"ot23\", \"ot22\", \"ot6\", \"ot7\", \"#NCT\", \"#LUCAS\", \"#WayV\", \"WeiShenV\", \"#WELOVEYOULUCAS\", \"#LUCAS_OUT\", \"#WAYV_is_7\", \"#LUCASBESTBOY\", \"#WayVis7\", \"#LUCAS_GETS_OUT_OF_NCT\", \"#LUCAS_GETS_OUT_OF_WayV\" |\n",
    "| Giselle (Aespa) | 10/23/21 | 36,176 | \"giselle\", \"uchinaga\", \"kpop\", \"k-pop\", \"bbl\", \"bubble”, \"MYs\", \"MY\", \"aeri\", \"n word\", \"racist\", \"aespa\", \"#aespa\", \"#gisellenword\", \"giselleaespa\", \"#Giselle_OUT\", \"#gisellenwordspace\", \"#giselleapologize\", \"#aespa_is_FOUR\"  |\n",
    "| DaBaby | 7/25/21 | 100,810 | \"dababy\", #DaBabyisOverParty, #DaBookings, #DaApology, #Dababy |\n",
    "| Nicki Minaj | 9/13/21 | 93,332 | '\"nicki minaj, #NickiMinaj, #Nicki, #MyCousinTookTheVaccine, #NickiMinajsCousinsFriendsBalls, #NickisCousinsFriendsBalls, #nickiminajdraggingparty, #iStandWithNicki, #istandwithnickiminaj, #barbz, barbz |\n",
    "| Zayn Malik | 10/28/2021 | 53,472 | “zayn malik”, “zayn”, “zayn hits yolanda”, “zayn and gigi”, “zayn malik and gigi hadid”, “zayn cheated”, #WeAreWithZayn, #ZaynMalik, #FreeZayn, #welovezayn, #AlwaysWithYouZayn, #respectzayn, #WeSupportZayn, #cancelzayn, #WeHateZayn |\n",
    "| Doja Cat | 5/25/2020 | 387,572 | “doja cat”, “doja”, “dindu nuffin song”, #dojawasinnocent, #dojacatisNOToverparty, “WeAreSorryDoja”, #dojacatisoverparty, #DojaIsOverParty, #DojaCat |"
   ]
  },
  {
   "cell_type": "markdown",
   "metadata": {},
   "source": [
    "<h4><center><b>Table 1. Canceled Artists’ Dataset Overview</b></center></h4>"
   ]
  },
  {
   "cell_type": "markdown",
   "metadata": {},
   "source": [
    "| Artist Name | Initial Number of Tweets | Hashtags + Keywords Used for Query |\n",
    "| --- | --- | --- |\n",
    "| Jaemin (NCT/NCT Dream) | 117,654 | \"na jaemin\", \"jaemin\", “bbl”, “bubble”, “nct”, “nct dream”, “nana”, “nctzens”, \"czennie\", \"czennies\", \"nctzen\", “#NCT”, “#NCTDREAM” |\n",
    "| Ryujin (ITZY) | 36,176 | \"ryujin\", \"shin\", \"itzy\", \"#ITZY\", \"midzy\", \"midzys\", \"#RYUJIN\" |\n",
    "| Lil Baby | 146,198 | “lil baby”, “#lilbaby” |\n",
    "| Saweetie | 70,904 | '\"saweetie\" , “#saweetie” |\n",
    "| Harry Styles | 437,775 | “harry styles”, “harry”, “styles”, #harry, #harrystyles |\n",
    "| Adele | 34,282 | “adele”, #adele, #adele25, #adele21, #adelelove |\n"
   ]
  },
  {
   "cell_type": "markdown",
   "metadata": {},
   "source": [
    "<h4><center><b>Table 2. Control Artists’ Dataset Overview</b></center></h4>"
   ]
  },
  {
   "cell_type": "markdown",
   "metadata": {},
   "source": [
    "## Sentiment Analysis APIs\n",
    "Initially, we looked at three sentiment analysis tools: Google Perspective, Vader, and TextBlob, in order to analyze the sentiment in our tweet datasets. However, upon conducting our preliminary analysis and EDA, we were not able to gather any meaningful results from Vader and Textblob that were not already evident through our results with the Google Perspective API. Therefore, we eventually decided to only use Google Perspective for our final analysis. \n",
    "\n",
    "Using the Google Perspective API, we calculated the probability that each tweet in our datasets would be perceived as toxic, severely toxic, an insult, and containing profanity. The difference between toxic and severely toxic is that the severe toxicity attribute is less sensitive to milder forms of toxicity, such as text that contains profanity used in a positive case. Since we are focusing on sentiment among English-speaking Twitter users, we specified that we would be using the English language while using Perspective API. Therefore, any tweets that are not recognized as being primarily written in English by the API were not included in the final dataset containing the toxicity probability values for each tweet. In choosing which metrics we would use for our final project, we chose the severe toxicity and insult probabilities. Our preliminary results showed that toxicity and severe toxicity showed similar trends. Insult and profanity also shared similar trends with each other. Therefore, we narrowed down to only using severe toxicity and insult, which also were less susceptible to milder forms of toxicity such as positive uses of profanity."
   ]
  },
  {
   "cell_type": "markdown",
   "metadata": {},
   "source": [
    "## RQ1: Type of Issue for Cancellation"
   ]
  },
  {
   "cell_type": "markdown",
   "metadata": {},
   "source": [
    "| Group | Artist Names |\n",
    "| --- | --- |\n",
    "| Discrimination Towards Marginalized Groups | Giselle, DaBaby, Doja Cat | \n",
    "| Abuse Allegations | Lucas, Zayn Malik | \n",
    "| Misinformation | Nicki Minaj | "
   ]
  },
  {
   "cell_type": "markdown",
   "metadata": {},
   "source": [
    "**Table 2. Categories of Cancellation for Canceled Artists**"
   ]
  },
  {
   "cell_type": "markdown",
   "metadata": {},
   "source": [
    "## RQ2: Background of Musician"
   ]
  },
  {
   "cell_type": "markdown",
   "metadata": {},
   "source": [
    "The background of the artists we researched was another aspect that we were interested in determining its influence on sentiment after cancellation. The differences between each artists’ background, we believe, may influence the severity of sentiment, as well as the duration of sentiment during canceling. In order to determine whether or not the background of an artist has an effect on the sentiment they receive after being canceled, we created two different groups to look at. The first grouping of artists is based on the genre of music they’re in. The genres that our artists fall into are K-pop, hip-hop, and Western pop. The second grouping of artists is based on sex, comparing female artists with male artists. The metric we used to compare artists in these groupings is determining the number of days after cancellation it takes for the median sentiment level to return to pre-controversy levels. \n",
    "\n",
    "We dropped all of the control artists from these groups because the control artists weren’t necessary for the analysis. We were only interested in how background affects the change in sentiment after getting canceled. \n",
    "\n",
    "After sorting the artists for the groups in each category, we took the sentiment indicators (severe toxicity and insult levels) over time for each artist within the group and grouped by the number of days before and after controversy. The aggregate function we used on the sentiment indicators is median. In short, we calculated the median severe toxicity and insult levels for each group within genre and sex over the entire period of tweets we collected.\n",
    "\n",
    "Next, we plot out the grouped data for the categories to visualize the median indicator levels for the groups against each other. In order to quantify the effect of the chart, we used the metric of determining the number of days after controversy until the median sentiment indicator levels returned to pre-controversy levels. We calculated this metric by taking the sentiment indicator level at day 0 or the day of the controversy and finding the first instance of the indicator level being below the day 0 level after the controversy has happened. For each group, we calculated this metric and compared it to other groups within the same category to determine if there is a difference for that background category."
   ]
  },
  {
   "cell_type": "markdown",
   "metadata": {},
   "source": [
    "## RQ3: Parasocial Relationships\n",
    "Parasocial relationships are one-sided relationships in which an individual develops illusions of intimacy with another individual, usually a media personality, as a result of repeated interactions between both individuals. [1] For example, a fan who has followed an artist for a period of time and has learnt enough about them to develop a sense of loyalty might feel that they have a personal connection with the artist. Depending on the strength of the relationship, media personalities can have strong influence over their audiences as evident with fandoms or fan bases like BTS’s ARMYs or Taylor Swift’s Swifties. To determine which artists have fan bases that share either a strong or weak parasocial relationship with the artist, we used two metrics: total mean engagement and fandom ratio. For the engagement metric, we first collected every tweet an artist posted 6 months before and after their cancellation date. We then calculated the total mean engagement by calculating the sum of the mean number of retweets, quote tweets, likes, and replies on an artist’s tweets. To calculate the fandom ratio, we used our previous hashtag and keyword tweet datasets and so for each artist, we calculated the amount of tweets that contained at least one of the artist’s fandom names divided by the total number of tweets in that artist’s dataset. "
   ]
  },
  {
   "cell_type": "markdown",
   "metadata": {},
   "source": [
    "| Artist Name | Fandom Name |\n",
    "| --- | --- |\n",
    "| Lucas (NCT/WayV) | \"nctzen\", \"nctzens\", \"wayzennie\", \"wayzennies\", \"wayzenni\", \"weishennie\", \"czennie\", \"czennies\", \"#nctzen\", \"#weishennie\", \"#nctzens\", \"#weishennies\", \"lumi\", \"lumis\" | \n",
    "| Giselle (Aespa) | \"MY\", \"MYs\", \"#MYs\", \"aerishine\", \"aerishines\" | \n",
    "| DaBaby | NONE or N/A | \n",
    "| Nicki Minaj | \"barb\", \"barbz\", \"barbs\", \"#barbz\", \"#barb\" | \n",
    "| Zayn Malik | \"directioners\", \"directioner\", \"zquad\", \"#zquad\" | \n",
    "| Doja Cat | \"kittenz\", \"#kittenz\" | "
   ]
  },
  {
   "cell_type": "markdown",
   "metadata": {},
   "source": [
    "**Table 2. Cancelled Artists Fandom Names and Parasocial Strength**"
   ]
  },
  {
   "cell_type": "markdown",
   "metadata": {},
   "source": [
    "| Artist Name | Fandom Name | \n",
    "| --- | --- |\n",
    "| Jaemin (NCT/NCT Dream) | \"nctzen\", \"nctzens\", \"czennie\", \"czennies\", \"#nctzen\", \"#nctzens\", \"nanadoongie\",\"nanadoongies\" | \n",
    "| Ryujin (ITZY) | \"midzy\", \"midzys\", \"#midzy\" | \n",
    "| Lil Baby | NONE or N/A | \n",
    "| Saweetie | NONE or N/A | \n",
    "| Harry Styles | \"directioners\", \"directioner\", \"harries\", \"#harries\" | \n",
    "| Adele | \"daydreamer\", \"daydreamers\", \"#daydreamer\" | "
   ]
  },
  {
   "cell_type": "markdown",
   "metadata": {},
   "source": [
    "**Table 2. Control Artists Fandom Names and Parasocial Strength**"
   ]
  },
  {
   "cell_type": "markdown",
   "metadata": {},
   "source": [
    "We then grouped them into either strong or weak parasocial relationships based on whether the artist reached above or below a certain threshold for each metic, in which our thresholds were determined based on our metric values and our own domain knowledge. For the total mean engagement, the cutoff threshold was 20,000 and for the fandom ratio, the cutoff threshold was 0.05. To be categorized as having a strong parasocial relationship, the artist’s total mean engagement and fandom ratio would both have to be greater than or equal to its respective threshold. On the other hand, those who are unable to reach above both thresholds are then categorized as having a weak parasocial relationship. For example, Zayn Malik meets the threshold for total mean engagement as ~360,000 > 50,000 but does not meet the threshold for the fandom ratio metric as 0.003 < 0.05, so he was categorized as having a weak parasocial relationship. "
   ]
  },
  {
   "cell_type": "markdown",
   "metadata": {},
   "source": [
    "| Artist Name | Total Mean Engagement | Fandom Ratio | Parasocial Strength |\n",
    "| --- | --- | --- | --- |\n",
    "| Lucas | 112,107 | 0.123 | Strong \n",
    "| Giselle | 92,741 | 0.141 | Strong \n",
    "| DaBaby | 13,226 | 0.0 | Weak \n",
    "| Nicki Minaj | 81,179 | 0.052 | Strong \n",
    "| Zayn Malik | 359,275 | 0.003 | Weak \n",
    "| Doja Cat | 46,636 | 0.0001 | Weak "
   ]
  },
  {
   "cell_type": "markdown",
   "metadata": {},
   "source": [
    "**Table 3. Engagement Metric Values Used to Determine Parasocial Strength**"
   ]
  },
  {
   "cell_type": "markdown",
   "metadata": {},
   "source": [
    "# Results"
   ]
  },
  {
   "cell_type": "markdown",
   "metadata": {},
   "source": [
    "## RQ1: Type of Issue for Cancellation"
   ]
  },
  {
   "cell_type": "markdown",
   "metadata": {},
   "source": [
    "![image](data/out/Assualt_Before_tiFrequency.png) | ![image](data/out/Assualt_After_tiFrequency.png)\n",
    ":-:|:-:\n",
    "**Figure A:** Most Common Words Before Cancellation For Assault Allegation Group | **Figure B:** Most Common Words After Cancellation For Assault Allegation Group"
   ]
  },
  {
   "cell_type": "markdown",
   "metadata": {},
   "source": [
    "![image](data/out/Discrimination_Before_tiFrequency.png) | ![image](data/out/Discrimination_After_tiFrequency.png)\n",
    ":-:|:-:\n",
    "**Figure A:** Most Common Words Before Cancellation For Discrimination Group | **Figure B:** Most Common Words After Cancellation For Discrimination Group"
   ]
  },
  {
   "cell_type": "markdown",
   "metadata": {},
   "source": [
    "![image](data/out/Misinformation_Before_tiFrequency.png) | ![image](data/out/Misinformation_After_tiFrequency.png)\n",
    ":-:|:-:\n",
    "**Figure A:** Most Common Words Before Cancellation For Misinformation Group | **Figure B:** Most Common Words After Cancellation For Misinformation Group"
   ]
  },
  {
   "cell_type": "markdown",
   "metadata": {},
   "source": [
    "![image](data/out/severe_toxicity_ti_Line.png) | ![image](data/out/insult_ti_Line.png)\n",
    ":-:|:-:\n",
    "**Figure A:** Change in Median Severe Toxicity Score By Type of Issue | **Figure B:** Change in Median Insult Score By Type of Issue"
   ]
  },
  {
   "cell_type": "markdown",
   "metadata": {},
   "source": [
    "## RQ2: Background of Musician"
   ]
  },
  {
   "cell_type": "markdown",
   "metadata": {},
   "source": [
    "For the second subquestion measuring the effect of background on sentiment, we grouped artists into different genres and sex, and compared the differences in severity and length of sentiment by taking the median sentiment level for each group."
   ]
  },
  {
   "cell_type": "markdown",
   "metadata": {},
   "source": [
    "| Artist Name | K-Pop | Hip-Hop | Pop |\n",
    "| --- | --- | --- | --- |\n",
    "| # Days to Return to Pre-Controversy Levels | 26 | 35 | 18\n",
    "| Severe Toxicity Levels at Day 0 | 0.1577 | 0.1764 | 0.2245"
   ]
  },
  {
   "cell_type": "markdown",
   "metadata": {},
   "source": [
    "**Table 3. Duration of Severe Toxicity Score By Genre**"
   ]
  },
  {
   "cell_type": "markdown",
   "metadata": {},
   "source": [
    "| Artist Name | K-Pop | Hip-Hop | Pop |\n",
    "| --- | --- | --- | --- |\n",
    "| # Days to Return to Pre-Controversy Levels | 18 | 30 | 1\n",
    "| Severe Toxicity Levels at Day 0 | 0.1279 | 0.1449 | 0.1897"
   ]
  },
  {
   "cell_type": "markdown",
   "metadata": {},
   "source": [
    "**Table 3. Duration of Insult Score By Genre**"
   ]
  },
  {
   "cell_type": "markdown",
   "metadata": {},
   "source": [
    "![image](data/out/genre_median_severe_toxicityPlot.png) | ![image](data/out/genre_median_insultPlot.png)\n",
    ":-:|:-:\n",
    "**Figure A:** Change in Median Severe Toxicity Score By Genre | **Figure B:** Change in Median Insult Score By Genre"
   ]
  },
  {
   "cell_type": "markdown",
   "metadata": {},
   "source": [
    "Comparing different genres to each other, hip-hop stands out. For median severe toxicity levels, hip hop artists took 30 days for the severe toxicity to return to the level it was at before controversy. K-pop artists took 18 days and pop artists took 1 day. For median insult levels, hip hop artists took 35 days, k-pop artists took 26 days, and pop artists took 18 days to return to pre-controversy insult levels. From the data, hip-hop artists seem to undergo a prolonged negative effect from cancellation compared to our other genres. Also, from our visualizations on genre severe toxicity and insult levels, canceled hip hop artists experience a more severe change in toxic sentiment compared to other genres as both plots have an extremely sharp peak in sentiment levels. Median hip-hop severe toxicity levels go from 0.176 to around 0.300 while median hip-hop insult levels go from 0.145 to 0.220 immediately after controversy."
   ]
  },
  {
   "cell_type": "markdown",
   "metadata": {},
   "source": [
    "| Artist Name | Male | Female\n",
    "| --- | --- | --- |\n",
    "| # Days to Return to Pre-Controversy Levels | 71 | 18  \n",
    "| Severe Toxicity Levels at Day 0 | 0.111 | 0.1942"
   ]
  },
  {
   "cell_type": "markdown",
   "metadata": {},
   "source": [
    "**Table 3. Duration of Severe Toxicity Score By Sex**"
   ]
  },
  {
   "cell_type": "markdown",
   "metadata": {},
   "source": [
    "| Artist Name | Male | Female\n",
    "| --- | --- | --- |\n",
    "| # Days to Return to Pre-Controversy Levels | 71 | 13  \n",
    "| Insult Levels at Day 0 | 0.1328 | 0.2436"
   ]
  },
  {
   "cell_type": "markdown",
   "metadata": {},
   "source": [
    "**Table 3. Duration of Insult Score By Sex**"
   ]
  },
  {
   "cell_type": "markdown",
   "metadata": {},
   "source": [
    "![image](data/out/sex_median_severe_toxicityPlot.png) | ![image](data/out/sex_median_insultPlot.png)\n",
    ":-:|:-:\n",
    "**Figure A:** Change in Median Severe Toxicity Score By Sex | **Figure B:** Change in Median Insult Score By Sex"
   ]
  },
  {
   "cell_type": "markdown",
   "metadata": {},
   "source": [
    "Our results for grouping by sex show that canceled female artists experience a greater backlash in response to controversy but for a much shorter period of time. Canceled male artists’ sentiment levels returned to normal/pre-controversy levels 71 days after controversy while female artists took 13 days for severe toxicity and 18 days for insult levels to return to normal. Male artists experienced a much longer duration of the effect from cancellation compared to female artists. However, female artists sustain a greater level of negative sentiment for the entire time period of tweets we collected and have a sharper and more drastic peak after being canceled.\n",
    "\n",
    "\n",
    "To conclude, genre and sex seem to make a difference in the length and severity of the sentiment for canceled artists. Our canceled hip hop artists experienced longer and more drastic differences in sentiment over the period of being canceled compared to k-pop and pop artists.\n",
    "Our male artists who were canceled experienced the effects of being canceled for a much longer period of time than female artists, but female artists experience a more drastic effect and have higher toxic sentiment overall."
   ]
  },
  {
   "cell_type": "markdown",
   "metadata": {},
   "source": [
    "## RQ3: Parasocial Relationships\n",
    "\n",
    "To investigate how sentiment changes over time based on the strength of a canceled artist’s parasocial relationship with their fans, we preprocessed our strong and weak grouped datasets by first calculating the mean severe toxicity and insult score for each date. We then applied a rolling median over an interval of 14 days on the transformed data in order to facilitate the observation of long-term trends. \n",
    "\n",
    "Based on both figures, we can see that artists that have a strong parasocial relationship with their fans tend to have overall lower negative sentiment compared to artists with a weak parasocial relationship. Figure A and Figure B both show a dramatic increase in median severe toxicity and insult score directly after the artist’s cancellation. Both strong and weak parasocial groups also experience an increase in negative sentiment after 100 days, which is possibly due to the controversy resurfacing. However, the weak parasocial group shows a more significant increase that is comparable to its initial spike seen directly after cancellation. In terms of how sentiment has changed compared to before cancellation, the median severe toxicity score increased by +4.5% for the strong group and +7.4% for the weak group after cancellation. The median insult score increased by +5.5% for the strong group and +11.5% for the weak group. Therefore, we can see that there is a slight percent increase in severe toxicity and insult scores for both groups after cancellation. When comparing our weak parasocial group against our strong parasocial group, there is also a slight positive difference in percent increase with a +2.9% difference for severe toxicity and +6% for insults. This supports that artists with a weak parasocial relationship experience slightly increased toxicity overall after cancellation compared to those with a strong parasocial relationship. "
   ]
  },
  {
   "cell_type": "markdown",
   "metadata": {},
   "source": [
    "![image](data/out/severe_toxicity_cancel_psLine.png) | ![image](data/out/insult_cancel_psLine.png)\n",
    ":-:|:-:\n",
    "**Figure A:** Change in Median Severe Toxicity Score Over Time| **Figure B:** Change in Median Insult Score Over Time"
   ]
  },
  {
   "cell_type": "markdown",
   "metadata": {},
   "source": [
    "|  | Strong | Weak |\n",
    "| --- | --- | --- |\n",
    "| Median Severe Toxicity Score | 0.1323 | 0.1492 |\n",
    "| Median Insult Score | 0.1658 | 0.1826 |"
   ]
  },
  {
   "cell_type": "markdown",
   "metadata": {},
   "source": [
    "<h4><center>Table 2: Median Severe Toxicity and Insult Before Cancellation</center></h4>"
   ]
  },
  {
   "cell_type": "markdown",
   "metadata": {},
   "source": [
    "|  | Strong | Weak |\n",
    "| --- | --- | --- |\n",
    "| Median Severe Toxicity Score | 0.1388 | 0.1606 |\n",
    "| Median Insult Score | 0.1744 | 0.2033 |"
   ]
  },
  {
   "cell_type": "markdown",
   "metadata": {},
   "source": [
    "<h4><center>Table 3: Median Severe Toxicity and Insult After Cancellation</center></h4>"
   ]
  },
  {
   "cell_type": "markdown",
   "metadata": {},
   "source": [
    "# Discussion"
   ]
  },
  {
   "cell_type": "markdown",
   "metadata": {},
   "source": [
    "In investigating how sentiment towards canceled musicians changes over time, we can conclude that there is an overall increase in negative or toxic sentiment after cancellation. However, the duration of negative sentiment towards a canceled artist appears to be more short-term. "
   ]
  },
  {
   "cell_type": "markdown",
   "metadata": {},
   "source": [
    "Depending on the severity of the issue, we believe this could affect the intensity of negative sentiment towards the canceled artist. Our research shows that artists canceled for discrimination against a marginalized group showed higher negative sentiment compared to artists canceled for abuse or misinformation. It was unexpected that artists canceled for abuse allegations did not demonstrate higher levels of negative sentiment. However, due to the sensitivity of the topic as well as other factors such as the strength of the artist’s parasocial relationship with their fans, it is possible these reasons are why conversation around these individuals was less negative than expected. "
   ]
  },
  {
   "cell_type": "markdown",
   "metadata": {},
   "source": [
    "Given that canceled artists’ backgrounds also could affect the strength of negative sentiment, we analyze how the genre of music they create and their sex affects sentiment after cancellation. We found that hip-hop artists experienced a higher increase in negative sentiment and took the longest to return to pre-controversy median severe toxicity and insult levels compared to K-pop and pop. The huge spike in negative sentiment for hip-hop artists was unexpected, but is likely influenced by issues they were canceled for. In terms of sex, male artists took longer to return to pre-controversy median severe toxicity and insult levels, but female artists had a more drastic rise and a greater overall average in negative sentiment after cancellation. This suggests that there might be a gender imbalance with Twitter cancel culture and the intensity of the negative sentiment they feel towards a canceled artist. "
   ]
  },
  {
   "cell_type": "markdown",
   "metadata": {},
   "source": [
    "The strength of a canceled artists’ parasocial relationship can also affect sentiment as we found that artists who have a strong parasocial relationship with their fans tended to experience lower negative sentiment. Fans who have a strong parasocial relationship with an artist tend to feel a sense of loyalty towards them. This might suggest that because fans might feel loyal towards an artist, they feel more compelled to try to defend them and suppress as much negativity as possible. Especially considering how fans of WayV’s Lucas were using hashtags such as #WELOVEYOULUCAS or #LUCASBESTBOY as signs of support after his cancellation, it seems that the strength of an artist’s parasocial relationship with their fans can significantly influence public sentiment surrounding them. "
   ]
  },
  {
   "cell_type": "markdown",
   "metadata": {},
   "source": [
    "After conducting our research, there are several limitations that we would like to point out. In categorizing the strength of an artist’s parasocial relationship, the thresholds for our metrics were dependent on the data we collected as well as our domain knowledge. This would mean that using our thresholds to categorize other artists might not accurately represent their parasocial relationship with their fans. Therefore, for future research, we would advise utilizing network graphs on artist’s Twitter followers to quantify the strength of their parasocial relationship. Limitation about data only on 6 case studies. Future research could be looking into how sentiment changes based on whether the artist apologized or not. "
   ]
  },
  {
   "cell_type": "markdown",
   "metadata": {},
   "source": [
    "# Conclusion"
   ]
  },
  {
   "cell_type": "markdown",
   "metadata": {},
   "source": [
    "# Works Cited\n",
    "1) https://en.wikipedia.org/wiki/Parasocial_interaction "
   ]
  }
 ],
 "metadata": {
  "authors": [
   {
    "name": "Nikitha Gopal"
   },
   {
    "name": "Abigail Velasquez"
   },
   {
    "name": "Peter Wu"
   }
  ],
  "kernelspec": {
   "display_name": "Python 3",
   "language": "python",
   "name": "python3"
  },
  "language_info": {
   "codemirror_mode": {
    "name": "ipython",
    "version": 3
   },
   "file_extension": ".py",
   "mimetype": "text/x-python",
   "name": "python",
   "nbconvert_exporter": "python",
   "pygments_lexer": "ipython3",
   "version": "3.7.4"
  },
  "title": "The Effect of Twitter Cancel Culture on the Music Industry"
 },
 "nbformat": 4,
 "nbformat_minor": 4
}
